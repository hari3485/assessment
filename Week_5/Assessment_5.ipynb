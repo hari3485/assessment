{
  "nbformat": 4,
  "nbformat_minor": 0,
  "metadata": {
    "colab": {
      "provenance": []
    },
    "kernelspec": {
      "name": "python3",
      "display_name": "Python 3"
    },
    "language_info": {
      "name": "python"
    }
  },
  "cells": [
    {
      "cell_type": "markdown",
      "source": [
        "1.  Write a Python function that reads a file and prints its content.\n"
      ],
      "metadata": {
        "id": "rZ-3ODYdbM5x"
      }
    },
    {
      "cell_type": "code",
      "source": [
        "def read_file(filename):\n",
        "    with open(filename, 'r') as file:\n",
        "        content = file.read()\n",
        "        print(content)\n",
        "\n",
        "\n",
        "read_file(\"/content/newsreport.txt.txt\")\n"
      ],
      "metadata": {
        "colab": {
          "base_uri": "https://localhost:8080/"
        },
        "id": "ZgrspX80bQ_W",
        "outputId": "0015be86-bfd0-477b-b982-2b964051dd7d"
      },
      "execution_count": 4,
      "outputs": [
        {
          "output_type": "stream",
          "name": "stdout",
          "text": [
            "Part of Flock’s proprietary tech determines the make and model of the vehicle and also notes if there are bumper stickers, bike racks, any other unique markings that would help identify that vehicle. That generates a “vehicle fingerprint” for every car or truck, which none of the agencies I FOIA’d would provide me. That fingerprint could prove helpful in the case where a witness or other camera captured some non-license-plate information about a vehicle, like specific bumper stickers or a roof rack. \n",
            "\n",
            "I parked my car on Church Avenue, walked to the office and logged in to our morning news meeting. Some of our reporters were there in person; others began popping up on the screen from their beats in Danville, Martinsville and Bristol. We talked about our day’s work. Afterward, I drove around town just to see if I’d be picked up in a residential area. I started in Gainsboro. Snow covered the ground around the homes on Gilmer Avenue. I did not notice any cameras.\n",
            "\n",
            "I crossed town to Marshall Avenue and a neighborhood within a few blocks of the YMCA, and then on to another neighborhood sitting next to Interstate 581, which reaches across the town like a tight belt of loud traffic. Looking between homes, I saw the Roanoke Star, perched over trees frosted with ice not yet melted. \n",
            "\n",
            "Each of these neighborhoods had different backstories and histories you could see in the architecture of their homes, in the cars that parked on their streets. One thing they had in common on that cold morning: They were all very quiet. And I did not see any surveillance cameras. \n",
            "\n",
            "Later, I received no images of my car in those places. Flock can be used to monitor public space in suspected high-crime areas, which has earned it the wrath of rights organizations including the ACLU. Because Roanoke has only five cameras, according to contracts we received from the city, it’s my guess they are not yet focusing on specific populations or neighborhoods. \n",
            "\n",
            "After those brief stops, I left town mid-morning. I can’t tell you exactly when, and I’ll tell you why that’s relevant.\n",
            "\n",
            "When I eventually received data from the Staunton Police about my trip, I noticed that Flock cameras had photographed my vehicle in similar locations within both Staunton and Roanoke at similar times on another day, January 29. If you asked me today if I knew whether I had made a trip to the Roanoke office on Jan. 29, I would hesitate before I could answer. I would have to check my calendar and emails to be able to say that I was there, with certainty.\n",
            "\n",
            "But the police would have known, if they wanted to, without asking for any kind of warrant or court order.\n"
          ]
        }
      ]
    },
    {
      "cell_type": "markdown",
      "source": [
        "2.  Write a class `Rectangle` with `length` and `width`, and a method to calculate area. Create an object and show usage.\n"
      ],
      "metadata": {
        "id": "Y5ojvarUbZLC"
      }
    },
    {
      "cell_type": "code",
      "source": [
        "class Rectangle:\n",
        "    def __init__(self, length, width):\n",
        "        self.length = length\n",
        "        self.width = width\n",
        "\n",
        "    def area(self):\n",
        "        return self.length * self.width\n",
        "\n",
        "rectangle1 = Rectangle(5, 3)\n",
        "print(\"Area of rectangle1 is :\", rectangle1.area())\n"
      ],
      "metadata": {
        "colab": {
          "base_uri": "https://localhost:8080/"
        },
        "id": "8Z_t_P6Tbbt0",
        "outputId": "5b1e50f2-7328-4a60-c193-e02f5462fa48"
      },
      "execution_count": 1,
      "outputs": [
        {
          "output_type": "stream",
          "name": "stdout",
          "text": [
            "Area of rectangle1 is : 15\n"
          ]
        }
      ]
    },
    {
      "cell_type": "markdown",
      "source": [
        "3.  Write a unit test using `unittest` module to test a function `add(a, b)` that returns the sum of two numbers.\n",
        "\n"
      ],
      "metadata": {
        "id": "JqXKnzr9bRvV"
      }
    },
    {
      "cell_type": "code",
      "source": [
        "import unittest\n",
        "\n",
        "def add(a, b):\n",
        "    return a + b\n",
        "\n",
        "class TestAddFunction(unittest.TestCase):\n",
        "    def test_add(self):\n",
        "        self.assertEqual(add(2, 3), 5)\n",
        "        self.assertEqual(add(-1, 1), 0)\n",
        "        self.assertEqual(add(0, 0), 0)\n",
        "\n",
        "# Run the test\n",
        "unittest.main(argv=['first-arg-is-ignored'], exit=False)"
      ],
      "metadata": {
        "colab": {
          "base_uri": "https://localhost:8080/"
        },
        "id": "VKE4vgqMbcEw",
        "outputId": "10e85404-d4c5-4046-d7ad-843bab75eb37"
      },
      "execution_count": 5,
      "outputs": [
        {
          "output_type": "stream",
          "name": "stderr",
          "text": [
            ".\n",
            "----------------------------------------------------------------------\n",
            "Ran 1 test in 0.001s\n",
            "\n",
            "OK\n"
          ]
        },
        {
          "output_type": "execute_result",
          "data": {
            "text/plain": [
              "<unittest.main.TestProgram at 0x7e3d0da943d0>"
            ]
          },
          "metadata": {},
          "execution_count": 5
        }
      ]
    }
  ]
}