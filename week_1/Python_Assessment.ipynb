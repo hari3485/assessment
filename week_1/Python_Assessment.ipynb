{
  "nbformat": 4,
  "nbformat_minor": 0,
  "metadata": {
    "colab": {
      "provenance": []
    },
    "kernelspec": {
      "name": "python3",
      "display_name": "Python 3"
    },
    "language_info": {
      "name": "python"
    }
  },
  "cells": [
    {
      "cell_type": "markdown",
      "source": [
        "1 . Write a function that takes two numbers as input and returns their sum.\n"
      ],
      "metadata": {
        "id": "gxo2p9btHA_F"
      }
    },
    {
      "cell_type": "code",
      "source": [
        "number1 = int(input(\"enter the number1: \"))\n",
        "number2 = int(input(\"enter the number2: \"))\n",
        "\n",
        "def sum_of_two_nums(number1,number2):\n",
        "  return number1 + number2\n",
        "\n",
        "sum_of_two_nums(number1,number2)"
      ],
      "metadata": {
        "colab": {
          "base_uri": "https://localhost:8080/"
        },
        "id": "VrL5DDXFE_FL",
        "outputId": "cd8a89ab-c18e-4422-a93a-fd1b97fd7e0b"
      },
      "execution_count": null,
      "outputs": [
        {
          "output_type": "stream",
          "name": "stdout",
          "text": [
            "enter the number1: 12\n",
            "enter the number2: 23\n",
            "35\n"
          ]
        },
        {
          "output_type": "execute_result",
          "data": {
            "text/plain": [
              "35"
            ]
          },
          "metadata": {},
          "execution_count": 12
        }
      ]
    },
    {
      "cell_type": "markdown",
      "source": [
        "2. Write a Python program that checks whether a number is even or odd using a function."
      ],
      "metadata": {
        "id": "OZ6Tb-OQGAnT"
      }
    },
    {
      "cell_type": "code",
      "source": [
        "number = int(input(\"enter the number: \"))\n",
        "\n",
        "def even_or_odd(number):\n",
        "  if number % 2 == 0:\n",
        "    return \"Even\"\n",
        "  else:\n",
        "    return \"Odd\"\n",
        "\n",
        "\n",
        "even_or_odd(number)"
      ],
      "metadata": {
        "colab": {
          "base_uri": "https://localhost:8080/",
          "height": 53
        },
        "id": "5_TbmnmFGBEb",
        "outputId": "79cbb0f6-82d5-44a8-a5d7-a6e01c07e50e"
      },
      "execution_count": null,
      "outputs": [
        {
          "name": "stdout",
          "output_type": "stream",
          "text": [
            "enter the number: 22\n"
          ]
        },
        {
          "output_type": "execute_result",
          "data": {
            "text/plain": [
              "'Even'"
            ],
            "application/vnd.google.colaboratory.intrinsic+json": {
              "type": "string"
            }
          },
          "metadata": {},
          "execution_count": 14
        }
      ]
    },
    {
      "cell_type": "code",
      "source": [
        "number = int(input(\"Enter the number: \"))\n",
        "\n",
        "def checking_even_or_odd(number):\n",
        "    condition = number / 2\n",
        "    if condition == int(condition):\n",
        "        return \"Even Number\"\n",
        "    else:\n",
        "        return \"Odd Number\"\n",
        "\n",
        "print(checking_even_or_odd(number))"
      ],
      "metadata": {
        "colab": {
          "base_uri": "https://localhost:8080/"
        },
        "id": "wHohqyqJdkk4",
        "outputId": "42255227-9bc9-4166-8a27-78aafa8d9534"
      },
      "execution_count": 7,
      "outputs": [
        {
          "output_type": "stream",
          "name": "stdout",
          "text": [
            "Enter the number: 21\n",
            "Odd Number\n"
          ]
        }
      ]
    }
  ]
}