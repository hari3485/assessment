{
  "nbformat": 4,
  "nbformat_minor": 0,
  "metadata": {
    "colab": {
      "provenance": []
    },
    "kernelspec": {
      "name": "python3",
      "display_name": "Python 3"
    },
    "language_info": {
      "name": "python"
    }
  },
  "cells": [
    {
      "cell_type": "markdown",
      "source": [
        "1 . Write a function that takes two numbers as input and returns their sum.\n"
      ],
      "metadata": {
        "id": "gxo2p9btHA_F"
      }
    },
    {
      "cell_type": "code",
      "source": [
        "def sum_of_two_nums(num1, num2):\n",
        "    return num1 + num2\n",
        "\n",
        "def num_valid_or_not(num):\n",
        "    while True:\n",
        "        try:\n",
        "            return int(input(num))\n",
        "        except ValueError:\n",
        "            print(\"Invalid input. Please enter a  valid number\")\n",
        "\n",
        "first_num = int(input(\"Enter the first value: \"))\n",
        "second_num = int(input(\"Enter the second value: \"))\n",
        "\n",
        "total_sum = sum_of_two_nums(first_num, second_num)\n",
        "print(f\"\\nThe sum of {first_num} and {second_num} is: {total_sum}\")\n"
      ],
      "metadata": {
        "colab": {
          "base_uri": "https://localhost:8080/"
        },
        "id": "VrL5DDXFE_FL",
        "outputId": "185d7729-6e3e-49d8-8fec-db5aafc0751f"
      },
      "execution_count": 11,
      "outputs": [
        {
          "output_type": "stream",
          "name": "stdout",
          "text": [
            "Enter the first value: 45\n",
            "Enter the second value: 65\n",
            "\n",
            "The sum of 45 and 65 is: 110\n"
          ]
        }
      ]
    },
    {
      "cell_type": "markdown",
      "source": [
        "2. Write a Python program that checks whether a number is even or odd using a function."
      ],
      "metadata": {
        "id": "OZ6Tb-OQGAnT"
      }
    },
    {
      "cell_type": "code",
      "source": [
        "number = int(input(\"enter the number: \"))\n",
        "\n",
        "def even_or_odd(number):\n",
        "  if number % 2 == 0:\n",
        "    return \"Even\"\n",
        "  else:\n",
        "    return \"Odd\"\n",
        "\n",
        "\n",
        "even_or_odd(number)"
      ],
      "metadata": {
        "colab": {
          "base_uri": "https://localhost:8080/",
          "height": 53
        },
        "id": "5_TbmnmFGBEb",
        "outputId": "24657fbe-b667-488e-e8f1-40c583d945c8"
      },
      "execution_count": 12,
      "outputs": [
        {
          "name": "stdout",
          "output_type": "stream",
          "text": [
            "enter the number: 43\n"
          ]
        },
        {
          "output_type": "execute_result",
          "data": {
            "text/plain": [
              "'Odd'"
            ],
            "application/vnd.google.colaboratory.intrinsic+json": {
              "type": "string"
            }
          },
          "metadata": {},
          "execution_count": 12
        }
      ]
    },
    {
      "cell_type": "code",
      "source": [
        "number = int(input(\"Enter the number: \"))\n",
        "\n",
        "def checking_even_or_odd(number):\n",
        "    condition = number / 2\n",
        "    if condition == int(condition):\n",
        "        return \"Even Number\"\n",
        "    else:\n",
        "        return \"Odd Number\"\n",
        "\n",
        "print(checking_even_or_odd(number))"
      ],
      "metadata": {
        "colab": {
          "base_uri": "https://localhost:8080/"
        },
        "id": "wHohqyqJdkk4",
        "outputId": "a1cafd9d-89fe-4dae-c1c3-0c3ca47f18f0"
      },
      "execution_count": 13,
      "outputs": [
        {
          "output_type": "stream",
          "name": "stdout",
          "text": [
            "Enter the number: 34\n",
            "Even Number\n"
          ]
        }
      ]
    }
  ]
}