{
  "cells": [
    {
      "cell_type": "markdown",
      "id": "4c2e5f9e",
      "metadata": {
        "id": "4c2e5f9e"
      },
      "source": [
        "1.  Write a list comprehension to generate a list of squares from 1 to 10.\n",
        "\n",
        "Example 1:\n",
        "Input: Range = 1 to 10\n",
        "Output: [1, 4, 9, 16, 25, 36, 49, 64, 81, 100]\n",
        "\n",
        "Example 2:\n",
        "Input: Range = 1 to 5\n",
        "Output: [1, 4, 9, 16, 25]\n",
        "\n",
        "Example 3:\n",
        "Input: Range = 3 to 6\n",
        "Output: [9, 16, 25, 36]"
      ]
    },
    {
      "cell_type": "code",
      "execution_count": 1,
      "id": "5f655db6",
      "metadata": {
        "colab": {
          "base_uri": "https://localhost:8080/"
        },
        "id": "5f655db6",
        "outputId": "f3bc4e19-8959-4a19-a1a6-62db0f6af4f6"
      },
      "outputs": [
        {
          "output_type": "stream",
          "name": "stdout",
          "text": [
            "After squaring the numbers are doubled\n",
            " [1, 4, 9, 16, 25, 36, 49, 64, 81, 100]\n"
          ]
        }
      ],
      "source": [
        "squares = [x**2 for x in range(1, 11)]\n",
        "print(f\"After squaring the numbers are doubled\\n\",squares)\n"
      ]
    },
    {
      "cell_type": "markdown",
      "id": "d7d20565",
      "metadata": {
        "id": "d7d20565"
      },
      "source": [
        "2.  Write a function that takes a list of numbers and returns their sum using enumerate (do not use sum()).\n",
        "\n",
        "Example 1:\n",
        "Input: [1, 2, 3, 4]\n",
        "Output: 10\n",
        "\n",
        "Example 2:\n",
        "Input: [5, 10, 15]\n",
        "Output: 30\n",
        "\n",
        "Example 3:\n",
        "Input: [-1, 0, 1]\n",
        "Output: 0\n"
      ]
    },
    {
      "cell_type": "code",
      "source": [
        "def sum(numbers):\n",
        "    total = 0\n",
        "    for number in numbers:\n",
        "      total = total + number\n",
        "    print(total)\n",
        "\n",
        "sum([34,21,20])"
      ],
      "metadata": {
        "colab": {
          "base_uri": "https://localhost:8080/"
        },
        "id": "WvDlq40uTfEr",
        "outputId": "ad5735d1-47cd-4a74-84c5-9c3175f0ad35"
      },
      "id": "WvDlq40uTfEr",
      "execution_count": 10,
      "outputs": [
        {
          "output_type": "stream",
          "name": "stdout",
          "text": [
            "75\n"
          ]
        }
      ]
    },
    {
      "cell_type": "markdown",
      "id": "27b9de14",
      "metadata": {
        "id": "27b9de14"
      },
      "source": []
    },
    {
      "cell_type": "markdown",
      "id": "2a858952",
      "metadata": {
        "id": "2a858952"
      },
      "source": [
        "3.  Write a function that takes another function and returns a new function that logs input and output using decorators and f-strings.\n",
        "\n",
        "Example 1:\n",
        "Input: logged_add([3, 5])\n",
        "Output: 8\n",
        "\n",
        "Example 2:\n",
        "Input: logged_concat([\"Hello\", \"World\"])\n",
        "Output: \"HelloWorld\"\n",
        "\n",
        "Example 3:\n",
        "Input: logged_multiply([4, 2])\n",
        "Output: 8\n"
      ]
    },
    {
      "cell_type": "code",
      "source": [
        "def log_io(func):\n",
        "    def wrapper(*args):\n",
        "        result = func(*args)\n",
        "        print(f\"Input: {args}, Output: {result}\")\n",
        "        return result\n",
        "    return wrapper\n",
        "\n",
        "\n",
        "\n",
        "\n",
        "@log_io\n",
        "def multiply(*args):\n",
        "    result = 1\n",
        "    for num in args:\n",
        "        result *= num\n",
        "    return result\n",
        "@log_io\n",
        "def add(*args):\n",
        "    return sum(args)\n",
        "\n",
        "@log_io\n",
        "def concat(*args):\n",
        "    return ''.join(args)\n",
        "\n",
        "\n",
        "logged_add = add\n",
        "logged_concat = concat\n",
        "logged_multiply = multiply\n",
        "\n",
        "logged_add(10,20)\n",
        "logged_concat(\"Machine\", \"Learning\")\n",
        "logged_multiply(25,25)\n"
      ],
      "metadata": {
        "colab": {
          "base_uri": "https://localhost:8080/"
        },
        "id": "FJN6HfSiUXWx",
        "outputId": "b27bf80d-2cfb-4400-a214-57aefcf55c39"
      },
      "id": "FJN6HfSiUXWx",
      "execution_count": 11,
      "outputs": [
        {
          "output_type": "stream",
          "name": "stdout",
          "text": [
            "30\n",
            "Input: (10, 20), Output: None\n",
            "Input: ('Machine', 'Learning'), Output: MachineLearning\n",
            "Input: (25, 25), Output: 625\n"
          ]
        },
        {
          "output_type": "execute_result",
          "data": {
            "text/plain": [
              "625"
            ]
          },
          "metadata": {},
          "execution_count": 11
        }
      ]
    }
  ],
  "metadata": {
    "kernelspec": {
      "display_name": "Python 3",
      "language": "python",
      "name": "python3"
    },
    "language_info": {
      "name": "python",
      "version": "3.12.0"
    },
    "colab": {
      "provenance": []
    }
  },
  "nbformat": 4,
  "nbformat_minor": 5
}