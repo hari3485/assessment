{
  "cells": [
    {
      "cell_type": "markdown",
      "metadata": {},
      "source": [
        "1. Write a function that uses a lambda to double a number.\n",
        "Example 1:\n",
        "Input: 5\n",
        "Output: 10\n",
        "\n",
        "Example 2:\n",
        "Input: 12\n",
        "Output: 24\n",
        "\n",
        "Example 3:\n",
        "Input: -7\n",
        "Output: -14\n",
        "\n"
      ]
    },
    {
      "cell_type": "code",
      "execution_count": 1,
      "metadata": {},
      "outputs": [
        {
          "name": "stdout",
          "output_type": "stream",
          "text": [
            "taking number as 5 after doubling this it becomes 10 \n"
          ]
        }
      ],
      "source": [
        "doubling_number = lambda y: y*2\n",
        "\n",
        "try:\n",
        "    number1 = int(input(\"enter a number: \"))\n",
        "    output = doubling_number(number1)\n",
        "    print(f\"taking number as {number1} after doubling this it becomes {output} \")\n",
        "\n",
        "except:\n",
        "  print(\"enter a valid number\")"
      ]
    },
    {
      "cell_type": "markdown",
      "metadata": {},
      "source": [
        "2. Write a function that takes a list and returns a new list with only even numbers using filter.\n",
        "\n",
        "Example 1:\n",
        "Input: [1, 2, 3, 4, 5, 6]\n",
        "Output: [2, 4, 6]\n",
        "\n",
        "Example 2:\n",
        "Input: [11, 13, 15, 18, 20]\n",
        "Output: [18, 20]\n",
        "\n",
        "Example 3:\n",
        "Input: [7, 9, 21]\n",
        "Output: []"
      ]
    },
    {
      "cell_type": "code",
      "execution_count": 2,
      "metadata": {},
      "outputs": [
        {
          "name": "stdout",
          "output_type": "stream",
          "text": [
            "Enter the elements in a serialwise\n",
            "\n",
            " the list of numbers are \n",
            "\n",
            " the even numbers from the list are []\n"
          ]
        }
      ],
      "source": [
        "func = lambda y: y%2==0\n",
        "\n",
        "try:\n",
        " list1 = input(\"Enter the list elements with ','\")\n",
        " list1 = list(map(int,list1.split(\",\")))\n",
        "except:\n",
        " print(\"Enter the elements in a serialwise\")\n",
        "\n",
        "even_num_list = list(filter(func,list1))\n",
        "\n",
        "print(f\"\\n the list of numbers are {list1}\")\n",
        "print(f\"\\n the even numbers from the list are {even_num_list}\")"
      ]
    },
    {
      "cell_type": "markdown",
      "metadata": {},
      "source": [
        "3. Write a decorator that times the execution of a function and prints the time taken.\n",
        "\n",
        "Example 1:\n",
        "A function that adds numbers from 1 to 1,000,000\n",
        "Output: Time taken: ~0.05 seconds\n",
        "\n",
        "Example 2:\n",
        "A function that sleeps for 2 seconds\n",
        "Output: Time taken: ~2.00 seconds\n",
        "\n",
        "Example 3:\n",
        "A function that multiplies two numbers (e.g., 10 * 20)\n",
        "Output: Time taken: ~0.00001 seconds"
      ]
    },
    {
      "cell_type": "code",
      "execution_count": 3,
      "metadata": {},
      "outputs": [
        {
          "name": "stdout",
          "output_type": "stream",
          "text": [
            "Time taken by 'add_numbers': 2.6702880859375e-05 sec\n",
            "Time taken by 'sleep': 2.000685691833496 sec\n",
            "Time taken by 'division': 2.384185791015625e-06 sec\n"
          ]
        }
      ],
      "source": [
        "import time\n",
        "\n",
        "def decorator_time(func):\n",
        "    def wrapper(*args, **kwargs):\n",
        "        start_time = time.time()\n",
        "        result = func(*args, **kwargs)\n",
        "        end_time = time.time()\n",
        "        print(f\"Time taken by '{func.__name__}': {end_time - start_time:} sec\")\n",
        "        return result\n",
        "    return wrapper\n",
        "\n",
        "@decorator_time\n",
        "def add_numbers():\n",
        "    sum = 0\n",
        "    for i in range(1, 200):\n",
        "        sum += i\n",
        "\n",
        "@decorator_time\n",
        "def sleep():\n",
        "    time.sleep(2)\n",
        "\n",
        "@decorator_time\n",
        "def division(a, b):\n",
        "    result = a / b\n",
        "\n",
        "add_numbers()\n",
        "sleep()\n",
        "division(10, 20)"
      ]
    },
    {
      "cell_type": "markdown",
      "metadata": {},
      "source": [
        "4 . Write a recursive function that takes a number n and returns a list of all numbers from n down to 1 and then back up to n.\n",
        "\n",
        "Example 1:\n",
        "A function that adds numbers from 1 to 1,000,000\n",
        "Output: Time taken: ~0.05 seconds\n",
        "\n",
        "Example 2:\n",
        "A function that sleeps for 2 seconds\n",
        "Output: Time taken: ~2.00 seconds\n",
        "\n",
        "Example 3:\n",
        "A function that multiplies two numbers (e.g., 10 * 20)\n",
        "Output: Time taken: ~0.00001 seconds"
      ]
    },
    {
      "cell_type": "code",
      "execution_count": 4,
      "metadata": {},
      "outputs": [
        {
          "data": {
            "text/plain": [
              "[5, 4, 3, 2, 1, 2, 3, 4, 5]"
            ]
          },
          "execution_count": 4,
          "metadata": {},
          "output_type": "execute_result"
        }
      ],
      "source": [
        "def nums_of_list(n):\n",
        "    if n == 1:\n",
        "        return [1]\n",
        "    else:\n",
        "        return [n] + nums_of_list(n - 1) + [n]\n",
        "    \n",
        "nums_of_list(5)"
      ]
    }
  ],
  "metadata": {
    "colab": {
      "provenance": []
    },
    "kernelspec": {
      "display_name": "Python 3",
      "language": "python",
      "name": "python3"
    },
    "language_info": {
      "codemirror_mode": {
        "name": "ipython",
        "version": 3
      },
      "file_extension": ".py",
      "mimetype": "text/x-python",
      "name": "python",
      "nbconvert_exporter": "python",
      "pygments_lexer": "ipython3",
      "version": "3.13.3"
    }
  },
  "nbformat": 4,
  "nbformat_minor": 0
}
