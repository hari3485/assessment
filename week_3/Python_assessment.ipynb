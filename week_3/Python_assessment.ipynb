{
  "cells": [
    {
      "cell_type": "markdown",
      "metadata": {},
      "source": [
        "1. Write a regex to find all digits in a string and return them as a list.\n"
      ]
    },
    {
      "cell_type": "code",
      "execution_count": 2,
      "metadata": {},
      "outputs": [],
      "source": [
        "import re"
      ]
    },
    {
      "cell_type": "code",
      "execution_count": 10,
      "metadata": {},
      "outputs": [
        {
          "name": "stdout",
          "output_type": "stream",
          "text": [
            "The Entered String is: \"KNN1234\"\n",
            "All the Digits in the String are: ['1', '2', '3', '4']\n"
          ]
        }
      ],
      "source": [
        "variable = input(\"Enter the String:\")\n",
        "print(f\"The Entered String is: {variable}\")\n",
        "returning_all_digits = re.findall(r\"\\d\",variable)\n",
        "print(f\"All the Digits in the String are: {returning_all_digits}\")"
      ]
    },
    {
      "cell_type": "markdown",
      "metadata": {},
      "source": [
        "2. Write a regex function that replaces all multiple spaces in a string with a single space.\n"
      ]
    },
    {
      "cell_type": "code",
      "execution_count": 11,
      "metadata": {},
      "outputs": [
        {
          "name": "stdout",
          "output_type": "stream",
          "text": [
            "The Entered String is:Des   cision tree                 algo               rithm 123 \n",
            "The String after replacing all multiple spaces with a single space is: Des cision tree algo rithm 123 \n"
          ]
        }
      ],
      "source": [
        "variable2 = input(\"Enter the String:\")\n",
        "print(f\"The Entered String is:{variable2}\")\n",
        "replacing_all_multiple_spaces = re.sub(r\"\\s+\",\" \",variable2)\n",
        "print(f\"The String after replacing all multiple spaces with a single space is: {replacing_all_multiple_spaces}\")"
      ]
    },
    {
      "cell_type": "markdown",
      "metadata": {},
      "source": [
        "3. Write a regex pattern to extract all valid email addresses from a given text.\n"
      ]
    },
    {
      "cell_type": "code",
      "execution_count": 13,
      "metadata": {},
      "outputs": [
        {
          "name": "stdout",
          "output_type": "stream",
          "text": [
            "The Entered String is:harchandan.ds25@gmail.com          abcdh     hari@fissionlabs.com            hari     knn@yahoo.in\n",
            "The Emails in the String are: ['harchandan.ds25@gmail.com', 'hari@fissionlabs.com', 'knn@yahoo.in']\n"
          ]
        }
      ],
      "source": [
        "mail = input(\"Enter the String:\")\n",
        "print(f\"The Entered String is:{mail}\")\n",
        "pattern = r\"[a-zA-Z0-9._%+-]+@[a-zA-Z0-9-]+\\.[a-zA-Z]{2,}\"\n",
        "finding_emails = re.findall(pattern,mail)\n",
        "print(f\"The Emails in the String are: {finding_emails}\")"
      ]
    }
  ],
  "metadata": {
    "colab": {
      "provenance": []
    },
    "kernelspec": {
      "display_name": ".venv",
      "language": "python",
      "name": "python3"
    },
    "language_info": {
      "codemirror_mode": {
        "name": "ipython",
        "version": 3
      },
      "file_extension": ".py",
      "mimetype": "text/x-python",
      "name": "python",
      "nbconvert_exporter": "python",
      "pygments_lexer": "ipython3",
      "version": "3.13.3"
    }
  },
  "nbformat": 4,
  "nbformat_minor": 0
}
